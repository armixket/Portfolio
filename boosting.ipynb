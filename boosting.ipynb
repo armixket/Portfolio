{
 "cells": [
  {
   "cell_type": "markdown",
   "metadata": {},
   "source": [
    "# Лабораторная работа 4-5 - XGBoost и градиентный бустинг"
   ]
  },
  {
   "cell_type": "code",
   "execution_count": 2,
   "metadata": {},
   "outputs": [],
   "source": [
    "import numpy as np\n",
    "import pandas as pd\n",
    "\n",
    "import matplotlib\n",
    "import matplotlib.pyplot as plt\n",
    "matplotlib.style.use('ggplot')\n",
    "%matplotlib inline"
   ]
  },
  {
   "cell_type": "code",
   "execution_count": 3,
   "metadata": {},
   "outputs": [
    {
     "data": {
      "text/html": [
       "<div>\n",
       "<style scoped>\n",
       "    .dataframe tbody tr th:only-of-type {\n",
       "        vertical-align: middle;\n",
       "    }\n",
       "\n",
       "    .dataframe tbody tr th {\n",
       "        vertical-align: top;\n",
       "    }\n",
       "\n",
       "    .dataframe thead th {\n",
       "        text-align: right;\n",
       "    }\n",
       "</style>\n",
       "<table border=\"1\" class=\"dataframe\">\n",
       "  <thead>\n",
       "    <tr style=\"text-align: right;\">\n",
       "      <th></th>\n",
       "      <th>age</th>\n",
       "      <th>job</th>\n",
       "      <th>marital</th>\n",
       "      <th>education</th>\n",
       "      <th>default</th>\n",
       "      <th>balance</th>\n",
       "      <th>housing</th>\n",
       "      <th>loan</th>\n",
       "      <th>contact</th>\n",
       "      <th>day</th>\n",
       "      <th>month</th>\n",
       "      <th>duration</th>\n",
       "      <th>campaign</th>\n",
       "      <th>pdays</th>\n",
       "      <th>previous</th>\n",
       "      <th>poutcome</th>\n",
       "      <th>y</th>\n",
       "    </tr>\n",
       "  </thead>\n",
       "  <tbody>\n",
       "    <tr>\n",
       "      <th>0</th>\n",
       "      <td>58</td>\n",
       "      <td>management</td>\n",
       "      <td>married</td>\n",
       "      <td>tertiary</td>\n",
       "      <td>no</td>\n",
       "      <td>2143</td>\n",
       "      <td>yes</td>\n",
       "      <td>no</td>\n",
       "      <td>unknown</td>\n",
       "      <td>5</td>\n",
       "      <td>may</td>\n",
       "      <td>261</td>\n",
       "      <td>1</td>\n",
       "      <td>-1</td>\n",
       "      <td>0</td>\n",
       "      <td>unknown</td>\n",
       "      <td>no</td>\n",
       "    </tr>\n",
       "    <tr>\n",
       "      <th>1</th>\n",
       "      <td>44</td>\n",
       "      <td>technician</td>\n",
       "      <td>single</td>\n",
       "      <td>secondary</td>\n",
       "      <td>no</td>\n",
       "      <td>29</td>\n",
       "      <td>yes</td>\n",
       "      <td>no</td>\n",
       "      <td>unknown</td>\n",
       "      <td>5</td>\n",
       "      <td>may</td>\n",
       "      <td>151</td>\n",
       "      <td>1</td>\n",
       "      <td>-1</td>\n",
       "      <td>0</td>\n",
       "      <td>unknown</td>\n",
       "      <td>no</td>\n",
       "    </tr>\n",
       "    <tr>\n",
       "      <th>2</th>\n",
       "      <td>33</td>\n",
       "      <td>entrepreneur</td>\n",
       "      <td>married</td>\n",
       "      <td>secondary</td>\n",
       "      <td>no</td>\n",
       "      <td>2</td>\n",
       "      <td>yes</td>\n",
       "      <td>yes</td>\n",
       "      <td>unknown</td>\n",
       "      <td>5</td>\n",
       "      <td>may</td>\n",
       "      <td>76</td>\n",
       "      <td>1</td>\n",
       "      <td>-1</td>\n",
       "      <td>0</td>\n",
       "      <td>unknown</td>\n",
       "      <td>no</td>\n",
       "    </tr>\n",
       "    <tr>\n",
       "      <th>3</th>\n",
       "      <td>47</td>\n",
       "      <td>blue-collar</td>\n",
       "      <td>married</td>\n",
       "      <td>unknown</td>\n",
       "      <td>no</td>\n",
       "      <td>1506</td>\n",
       "      <td>yes</td>\n",
       "      <td>no</td>\n",
       "      <td>unknown</td>\n",
       "      <td>5</td>\n",
       "      <td>may</td>\n",
       "      <td>92</td>\n",
       "      <td>1</td>\n",
       "      <td>-1</td>\n",
       "      <td>0</td>\n",
       "      <td>unknown</td>\n",
       "      <td>no</td>\n",
       "    </tr>\n",
       "    <tr>\n",
       "      <th>4</th>\n",
       "      <td>33</td>\n",
       "      <td>unknown</td>\n",
       "      <td>single</td>\n",
       "      <td>unknown</td>\n",
       "      <td>no</td>\n",
       "      <td>1</td>\n",
       "      <td>no</td>\n",
       "      <td>no</td>\n",
       "      <td>unknown</td>\n",
       "      <td>5</td>\n",
       "      <td>may</td>\n",
       "      <td>198</td>\n",
       "      <td>1</td>\n",
       "      <td>-1</td>\n",
       "      <td>0</td>\n",
       "      <td>unknown</td>\n",
       "      <td>no</td>\n",
       "    </tr>\n",
       "  </tbody>\n",
       "</table>\n",
       "</div>"
      ],
      "text/plain": [
       "   age           job  marital  education default  balance housing loan  \\\n",
       "0   58    management  married   tertiary      no     2143     yes   no   \n",
       "1   44    technician   single  secondary      no       29     yes   no   \n",
       "2   33  entrepreneur  married  secondary      no        2     yes  yes   \n",
       "3   47   blue-collar  married    unknown      no     1506     yes   no   \n",
       "4   33       unknown   single    unknown      no        1      no   no   \n",
       "\n",
       "   contact  day month  duration  campaign  pdays  previous poutcome   y  \n",
       "0  unknown    5   may       261         1     -1         0  unknown  no  \n",
       "1  unknown    5   may       151         1     -1         0  unknown  no  \n",
       "2  unknown    5   may        76         1     -1         0  unknown  no  \n",
       "3  unknown    5   may        92         1     -1         0  unknown  no  \n",
       "4  unknown    5   may       198         1     -1         0  unknown  no  "
      ]
     },
     "execution_count": 3,
     "metadata": {},
     "output_type": "execute_result"
    }
   ],
   "source": [
    "df = pd.read_csv('bank-full.csv', sep = ';')\n",
    "df.head()  # смотрим на данные"
   ]
  },
  {
   "cell_type": "markdown",
   "metadata": {},
   "source": [
    "## Подготовка данных"
   ]
  },
  {
   "cell_type": "markdown",
   "metadata": {},
   "source": [
    "Перекодируем качественные предикторы:\n",
    "\n",
    "1. для **default**, **housing** , **loan** переведём yes/no в 1/0\n",
    "\n",
    "2. **marital** - 1, если состоит в браке (married), 0 - одинокий/разведён (single/divorced)\n",
    "\n",
    "3. **education** - переведём в ранговую переменную: 0 - unknown, 1 - primary, 2 - secondary, 3 -tertiary\n",
    "\n",
    "4. **job** - 0 - unemployed/housemaid/unknown/retired, 1 - student, 2 - работник любой профессии\n",
    "\n",
    "5. **poutcome** - 0 - unknown/failure, 1 - other/success\n",
    "\n",
    "6. **contact** - 0 - unknown, 1 - cellular/telephone\n",
    "\n",
    "Не будем учитывать предикторы **day** и **month**, отвечающие за дату."
   ]
  },
  {
   "cell_type": "code",
   "execution_count": 4,
   "metadata": {},
   "outputs": [
    {
     "data": {
      "text/html": [
       "<div>\n",
       "<style scoped>\n",
       "    .dataframe tbody tr th:only-of-type {\n",
       "        vertical-align: middle;\n",
       "    }\n",
       "\n",
       "    .dataframe tbody tr th {\n",
       "        vertical-align: top;\n",
       "    }\n",
       "\n",
       "    .dataframe thead th {\n",
       "        text-align: right;\n",
       "    }\n",
       "</style>\n",
       "<table border=\"1\" class=\"dataframe\">\n",
       "  <thead>\n",
       "    <tr style=\"text-align: right;\">\n",
       "      <th></th>\n",
       "      <th>age</th>\n",
       "      <th>job</th>\n",
       "      <th>marital</th>\n",
       "      <th>education</th>\n",
       "      <th>default</th>\n",
       "      <th>balance</th>\n",
       "      <th>housing</th>\n",
       "      <th>loan</th>\n",
       "      <th>contact</th>\n",
       "      <th>duration</th>\n",
       "      <th>campaign</th>\n",
       "      <th>pdays</th>\n",
       "      <th>previous</th>\n",
       "      <th>poutcome</th>\n",
       "      <th>y</th>\n",
       "    </tr>\n",
       "  </thead>\n",
       "  <tbody>\n",
       "    <tr>\n",
       "      <th>0</th>\n",
       "      <td>58</td>\n",
       "      <td>2</td>\n",
       "      <td>1</td>\n",
       "      <td>3</td>\n",
       "      <td>0</td>\n",
       "      <td>2143</td>\n",
       "      <td>1</td>\n",
       "      <td>0</td>\n",
       "      <td>0</td>\n",
       "      <td>261</td>\n",
       "      <td>1</td>\n",
       "      <td>-1</td>\n",
       "      <td>0</td>\n",
       "      <td>0</td>\n",
       "      <td>0</td>\n",
       "    </tr>\n",
       "    <tr>\n",
       "      <th>1</th>\n",
       "      <td>44</td>\n",
       "      <td>2</td>\n",
       "      <td>0</td>\n",
       "      <td>2</td>\n",
       "      <td>0</td>\n",
       "      <td>29</td>\n",
       "      <td>1</td>\n",
       "      <td>0</td>\n",
       "      <td>0</td>\n",
       "      <td>151</td>\n",
       "      <td>1</td>\n",
       "      <td>-1</td>\n",
       "      <td>0</td>\n",
       "      <td>0</td>\n",
       "      <td>0</td>\n",
       "    </tr>\n",
       "    <tr>\n",
       "      <th>2</th>\n",
       "      <td>33</td>\n",
       "      <td>2</td>\n",
       "      <td>1</td>\n",
       "      <td>2</td>\n",
       "      <td>0</td>\n",
       "      <td>2</td>\n",
       "      <td>1</td>\n",
       "      <td>1</td>\n",
       "      <td>0</td>\n",
       "      <td>76</td>\n",
       "      <td>1</td>\n",
       "      <td>-1</td>\n",
       "      <td>0</td>\n",
       "      <td>0</td>\n",
       "      <td>0</td>\n",
       "    </tr>\n",
       "    <tr>\n",
       "      <th>3</th>\n",
       "      <td>47</td>\n",
       "      <td>2</td>\n",
       "      <td>1</td>\n",
       "      <td>0</td>\n",
       "      <td>0</td>\n",
       "      <td>1506</td>\n",
       "      <td>1</td>\n",
       "      <td>0</td>\n",
       "      <td>0</td>\n",
       "      <td>92</td>\n",
       "      <td>1</td>\n",
       "      <td>-1</td>\n",
       "      <td>0</td>\n",
       "      <td>0</td>\n",
       "      <td>0</td>\n",
       "    </tr>\n",
       "    <tr>\n",
       "      <th>4</th>\n",
       "      <td>33</td>\n",
       "      <td>0</td>\n",
       "      <td>0</td>\n",
       "      <td>0</td>\n",
       "      <td>0</td>\n",
       "      <td>1</td>\n",
       "      <td>0</td>\n",
       "      <td>0</td>\n",
       "      <td>0</td>\n",
       "      <td>198</td>\n",
       "      <td>1</td>\n",
       "      <td>-1</td>\n",
       "      <td>0</td>\n",
       "      <td>0</td>\n",
       "      <td>0</td>\n",
       "    </tr>\n",
       "  </tbody>\n",
       "</table>\n",
       "</div>"
      ],
      "text/plain": [
       "   age  job  marital  education  default  balance  housing  loan  contact  \\\n",
       "0   58    2        1          3        0     2143        1     0        0   \n",
       "1   44    2        0          2        0       29        1     0        0   \n",
       "2   33    2        1          2        0        2        1     1        0   \n",
       "3   47    2        1          0        0     1506        1     0        0   \n",
       "4   33    0        0          0        0        1        0     0        0   \n",
       "\n",
       "   duration  campaign  pdays  previous  poutcome  y  \n",
       "0       261         1     -1         0         0  0  \n",
       "1       151         1     -1         0         0  0  \n",
       "2        76         1     -1         0         0  0  \n",
       "3        92         1     -1         0         0  0  \n",
       "4       198         1     -1         0         0  0  "
      ]
     },
     "execution_count": 4,
     "metadata": {},
     "output_type": "execute_result"
    }
   ],
   "source": [
    "df = df.replace(to_replace=['no', 'yes'], value=[0, 1]) # переводим yes/no в 1/0\n",
    "df[['y', 'default', 'housing', 'loan']] = df[['y', 'default', 'housing', 'loan']].astype('int64')\n",
    "\n",
    "df = df.replace(to_replace=['married', 'single', 'divorced'], value=[1, 0, 0]) # состоит ли в браке\n",
    "\n",
    "df = df.replace(to_replace=['unknown','primary', 'secondary','tertiary'], value=[0, 1, 2, 3]) # уровень образования\n",
    "\n",
    "df = df.replace(to_replace=['unemployed', 'housemaid', 'unknown', 'retired',\n",
    "                            'student',\n",
    "                            'management', 'technician', 'entrepreneur','blue-collar', 'admin.', 'services', 'self-employed'], \n",
    "                value=[0, 0, 0, 0, 1, 2 , 2, 2, 2, 2, 2, 2]) # работа\n",
    "\n",
    "df = df.replace(to_replace=['unknown', 'failure', 'other', 'success'], value=[0, 0, 1, 1]) # результат предыдущей сделки\n",
    "\n",
    "df = df.replace(to_replace=['unknown', 'cellular', 'telephone'], value=[0, 1, 1]) # \n",
    "\n",
    "df[['y', 'default', 'housing', 'loan', 'marital', 'education', 'job', 'poutcome']] = df[['y', 'default', \n",
    "                                        'housing', 'loan', 'marital', 'education', 'job', 'poutcome']].astype('int64')\n",
    "\n",
    "\n",
    "df = df.drop(['day', 'month'], axis = 1)\n",
    "\n",
    "df.head()"
   ]
  },
  {
   "cell_type": "markdown",
   "metadata": {},
   "source": [
    "В полученном датасете число значений \"0\" целевой переменной превышает число значений \"1\" почти в 8 раз. Таким образом, наблюдается дисбаланс классов."
   ]
  },
  {
   "cell_type": "code",
   "execution_count": 5,
   "metadata": {},
   "outputs": [
    {
     "data": {
      "text/plain": [
       "0    39922\n",
       "1     5289\n",
       "Name: y, dtype: int64"
      ]
     },
     "execution_count": 5,
     "metadata": {},
     "output_type": "execute_result"
    }
   ],
   "source": [
    "df['y'].value_counts()"
   ]
  },
  {
   "cell_type": "code",
   "execution_count": 6,
   "metadata": {},
   "outputs": [],
   "source": [
    "from sklearn.datasets import make_classification\n",
    "from imblearn.over_sampling import RandomOverSampler"
   ]
  },
  {
   "cell_type": "markdown",
   "metadata": {},
   "source": [
    "Сбалансируем выборку, увеличив число строк со значением отклика 0."
   ]
  },
  {
   "cell_type": "code",
   "execution_count": 7,
   "metadata": {},
   "outputs": [
    {
     "name": "stdout",
     "output_type": "stream",
     "text": [
      "39922 5289\n",
      "79844\n"
     ]
    },
    {
     "data": {
      "text/html": [
       "<div>\n",
       "<style scoped>\n",
       "    .dataframe tbody tr th:only-of-type {\n",
       "        vertical-align: middle;\n",
       "    }\n",
       "\n",
       "    .dataframe tbody tr th {\n",
       "        vertical-align: top;\n",
       "    }\n",
       "\n",
       "    .dataframe thead th {\n",
       "        text-align: right;\n",
       "    }\n",
       "</style>\n",
       "<table border=\"1\" class=\"dataframe\">\n",
       "  <thead>\n",
       "    <tr style=\"text-align: right;\">\n",
       "      <th></th>\n",
       "      <th>age</th>\n",
       "      <th>job</th>\n",
       "      <th>marital</th>\n",
       "      <th>education</th>\n",
       "      <th>default</th>\n",
       "      <th>balance</th>\n",
       "      <th>housing</th>\n",
       "      <th>loan</th>\n",
       "      <th>contact</th>\n",
       "      <th>duration</th>\n",
       "      <th>campaign</th>\n",
       "      <th>pdays</th>\n",
       "      <th>previous</th>\n",
       "      <th>poutcome</th>\n",
       "      <th>y</th>\n",
       "    </tr>\n",
       "  </thead>\n",
       "  <tbody>\n",
       "    <tr>\n",
       "      <th>0</th>\n",
       "      <td>58</td>\n",
       "      <td>2</td>\n",
       "      <td>1</td>\n",
       "      <td>3</td>\n",
       "      <td>0</td>\n",
       "      <td>2143</td>\n",
       "      <td>1</td>\n",
       "      <td>0</td>\n",
       "      <td>0</td>\n",
       "      <td>261</td>\n",
       "      <td>1</td>\n",
       "      <td>-1</td>\n",
       "      <td>0</td>\n",
       "      <td>0</td>\n",
       "      <td>0</td>\n",
       "    </tr>\n",
       "    <tr>\n",
       "      <th>1</th>\n",
       "      <td>44</td>\n",
       "      <td>2</td>\n",
       "      <td>0</td>\n",
       "      <td>2</td>\n",
       "      <td>0</td>\n",
       "      <td>29</td>\n",
       "      <td>1</td>\n",
       "      <td>0</td>\n",
       "      <td>0</td>\n",
       "      <td>151</td>\n",
       "      <td>1</td>\n",
       "      <td>-1</td>\n",
       "      <td>0</td>\n",
       "      <td>0</td>\n",
       "      <td>0</td>\n",
       "    </tr>\n",
       "    <tr>\n",
       "      <th>2</th>\n",
       "      <td>33</td>\n",
       "      <td>2</td>\n",
       "      <td>1</td>\n",
       "      <td>2</td>\n",
       "      <td>0</td>\n",
       "      <td>2</td>\n",
       "      <td>1</td>\n",
       "      <td>1</td>\n",
       "      <td>0</td>\n",
       "      <td>76</td>\n",
       "      <td>1</td>\n",
       "      <td>-1</td>\n",
       "      <td>0</td>\n",
       "      <td>0</td>\n",
       "      <td>0</td>\n",
       "    </tr>\n",
       "    <tr>\n",
       "      <th>3</th>\n",
       "      <td>47</td>\n",
       "      <td>2</td>\n",
       "      <td>1</td>\n",
       "      <td>0</td>\n",
       "      <td>0</td>\n",
       "      <td>1506</td>\n",
       "      <td>1</td>\n",
       "      <td>0</td>\n",
       "      <td>0</td>\n",
       "      <td>92</td>\n",
       "      <td>1</td>\n",
       "      <td>-1</td>\n",
       "      <td>0</td>\n",
       "      <td>0</td>\n",
       "      <td>0</td>\n",
       "    </tr>\n",
       "    <tr>\n",
       "      <th>4</th>\n",
       "      <td>33</td>\n",
       "      <td>0</td>\n",
       "      <td>0</td>\n",
       "      <td>0</td>\n",
       "      <td>0</td>\n",
       "      <td>1</td>\n",
       "      <td>0</td>\n",
       "      <td>0</td>\n",
       "      <td>0</td>\n",
       "      <td>198</td>\n",
       "      <td>1</td>\n",
       "      <td>-1</td>\n",
       "      <td>0</td>\n",
       "      <td>0</td>\n",
       "      <td>0</td>\n",
       "    </tr>\n",
       "  </tbody>\n",
       "</table>\n",
       "</div>"
      ],
      "text/plain": [
       "   age  job  marital  education  default  balance  housing  loan  contact  \\\n",
       "0   58    2        1          3        0     2143        1     0        0   \n",
       "1   44    2        0          2        0       29        1     0        0   \n",
       "2   33    2        1          2        0        2        1     1        0   \n",
       "3   47    2        1          0        0     1506        1     0        0   \n",
       "4   33    0        0          0        0        1        0     0        0   \n",
       "\n",
       "   duration  campaign  pdays  previous  poutcome  y  \n",
       "0       261         1     -1         0         0  0  \n",
       "1       151         1     -1         0         0  0  \n",
       "2        76         1     -1         0         0  0  \n",
       "3        92         1     -1         0         0  0  \n",
       "4       198         1     -1         0         0  0  "
      ]
     },
     "execution_count": 7,
     "metadata": {},
     "output_type": "execute_result"
    }
   ],
   "source": [
    "num_0 = len(df[df['y'] == 0])\n",
    "num_1 = len(df[df['y'] == 1])\n",
    "print(num_0,num_1)\n",
    "\n",
    "# оверсэмплинг\n",
    "oversampled_data = pd.concat([ df[df['y'] == 0] , df[df['y'] == 1].sample(num_0, replace=True) ])\n",
    "print(len(oversampled_data))\n",
    "\n",
    "oversampled_data.head()"
   ]
  },
  {
   "cell_type": "markdown",
   "metadata": {},
   "source": [
    "## XGBoost"
   ]
  },
  {
   "cell_type": "code",
   "execution_count": 8,
   "metadata": {},
   "outputs": [],
   "source": [
    "X = df.iloc[:,:-1].values\n",
    "y = df['y'].values\n",
    "\n",
    "\n",
    "from sklearn.model_selection import train_test_split  # расщепим на тестовую и обучающую выборку\n",
    "X_train, X_test, y_train, y_test = train_test_split(X, y, test_size=0.2, random_state = 88)"
   ]
  },
  {
   "cell_type": "code",
   "execution_count": 11,
   "metadata": {},
   "outputs": [],
   "source": [
    "from xgboost import XGBClassifier\n",
    "from sklearn import metrics\n",
    "import xgboost as xgb\n",
    "from sklearn.model_selection import GridSearchCV"
   ]
  },
  {
   "cell_type": "code",
   "execution_count": 30,
   "metadata": {},
   "outputs": [
    {
     "name": "stderr",
     "output_type": "stream",
     "text": [
      "C:\\ProgramData\\Anaconda3\\lib\\site-packages\\xgboost\\sklearn.py:1224: UserWarning: The use of label encoder in XGBClassifier is deprecated and will be removed in a future release. To remove this warning, do the following: 1) Pass option use_label_encoder=False when constructing XGBClassifier object; and 2) Encode your labels (y) as integers starting with 0, i.e. 0, 1, 2, ..., [num_class - 1].\n",
      "  warnings.warn(label_encoder_deprecation_msg, UserWarning)\n"
     ]
    },
    {
     "name": "stdout",
     "output_type": "stream",
     "text": [
      "[21:45:35] WARNING: ..\\src\\learner.cc:1115: Starting in XGBoost 1.3.0, the default evaluation metric used with the objective 'binary:logistic' was changed from 'error' to 'logloss'. Explicitly set eval_metric if you'd like to restore the old behavior.\n"
     ]
    },
    {
     "data": {
      "text/plain": [
       "XGBClassifier(base_score=0.5, booster='gbtree', colsample_bylevel=1,\n",
       "              colsample_bynode=1, colsample_bytree=1, enable_categorical=False,\n",
       "              gamma=0.001, gpu_id=-1, importance_type=None,\n",
       "              interaction_constraints='', learning_rate=0.25, max_delta_step=0,\n",
       "              max_depth=6, min_child_weight=4, missing=nan,\n",
       "              monotone_constraints='()', n_estimators=100, n_jobs=4,\n",
       "              num_parallel_tree=1, predictor='auto', random_state=42,\n",
       "              reg_alpha=0, reg_lambda=1, scale_pos_weight=1, seed=42,\n",
       "              subsample=1, tree_method='exact', validate_parameters=1,\n",
       "              verbosity=None)"
      ]
     },
     "execution_count": 30,
     "metadata": {},
     "output_type": "execute_result"
    }
   ],
   "source": [
    "param_grid_xgboost = {  \n",
    "    'n_estimators': [250, 500, 1000],\n",
    "    'max_depth': [3, 4, 6],\n",
    "    'min_child_weight': [2, 3, 6, 9],\n",
    "    'learning_rate': [0.01, 0.1, 0.2, 0.5],\n",
    "}\n",
    "\n",
    "model = XGBClassifier(seed=42,\n",
    "                      n_estimators=100,\n",
    "                      max_depth=6,\n",
    "                      min_child_weight = 4,\n",
    "                      learning_rate = 0.25,\n",
    "                      gamma=0.001)\n",
    "model.fit(X_train, y_train)"
   ]
  },
  {
   "cell_type": "markdown",
   "metadata": {},
   "source": [
    "В качестве целевой метрики выберем **precision**: этот показатель можно проинтерпретировать как нацеленность на заинтересованных клиентов и избегание предложений незаинтересованной аудитории (они, вероятно, будут расценены как спам)."
   ]
  },
  {
   "cell_type": "code",
   "execution_count": 31,
   "metadata": {},
   "outputs": [
    {
     "name": "stderr",
     "output_type": "stream",
     "text": [
      "C:\\ProgramData\\Anaconda3\\lib\\site-packages\\xgboost\\sklearn.py:1224: UserWarning: The use of label encoder in XGBClassifier is deprecated and will be removed in a future release. To remove this warning, do the following: 1) Pass option use_label_encoder=False when constructing XGBClassifier object; and 2) Encode your labels (y) as integers starting with 0, i.e. 0, 1, 2, ..., [num_class - 1].\n",
      "  warnings.warn(label_encoder_deprecation_msg, UserWarning)\n"
     ]
    },
    {
     "name": "stdout",
     "output_type": "stream",
     "text": [
      "[11:12:58] WARNING: ..\\src\\learner.cc:1115: Starting in XGBoost 1.3.0, the default evaluation metric used with the objective 'binary:logistic' was changed from 'error' to 'logloss'. Explicitly set eval_metric if you'd like to restore the old behavior.\n"
     ]
    },
    {
     "data": {
      "text/plain": [
       "GridSearchCV(cv=5,\n",
       "             estimator=XGBClassifier(base_score=0.5, booster='gbtree',\n",
       "                                     colsample_bylevel=1, colsample_bynode=1,\n",
       "                                     colsample_bytree=1,\n",
       "                                     enable_categorical=False, gamma=0.001,\n",
       "                                     gpu_id=-1, importance_type=None,\n",
       "                                     interaction_constraints='',\n",
       "                                     learning_rate=0.25, max_delta_step=0,\n",
       "                                     max_depth=6, min_child_weight=4,\n",
       "                                     missing=nan, monotone_constraints='()',\n",
       "                                     n_estimators=100, n_jobs=4,\n",
       "                                     num_parallel_tree=1, predictor='auto',\n",
       "                                     random_state=42, reg_alpha=0, reg_lambda=1,\n",
       "                                     scale_pos_weight=1, seed=42, subsample=1,\n",
       "                                     tree_method='exact', validate_parameters=1,\n",
       "                                     verbosity=None),\n",
       "             n_jobs=-1,\n",
       "             param_grid={'learning_rate': [0.01, 0.1, 0.2, 0.5],\n",
       "                         'max_depth': [3, 4, 6],\n",
       "                         'min_child_weight': [2, 3, 6, 9],\n",
       "                         'n_estimators': [250, 500, 1000]},\n",
       "             scoring='precision')"
      ]
     },
     "execution_count": 31,
     "metadata": {},
     "output_type": "execute_result"
    }
   ],
   "source": [
    "grid_CV_1 = GridSearchCV(\n",
    "       estimator=model,\n",
    "       param_grid=param_grid_xgboost,\n",
    "       scoring='precision',\n",
    "       cv=5,\n",
    "       n_jobs=-1)\n",
    "\n",
    "\n",
    "grid_CV_1.fit(X_train, y_train)"
   ]
  },
  {
   "cell_type": "code",
   "execution_count": 32,
   "metadata": {},
   "outputs": [
    {
     "data": {
      "text/plain": [
       "{'learning_rate': 0.01,\n",
       " 'max_depth': 3,\n",
       " 'min_child_weight': 9,\n",
       " 'n_estimators': 250}"
      ]
     },
     "execution_count": 32,
     "metadata": {},
     "output_type": "execute_result"
    }
   ],
   "source": [
    "grid_CV_1.best_params_"
   ]
  },
  {
   "cell_type": "code",
   "execution_count": 37,
   "metadata": {},
   "outputs": [
    {
     "name": "stderr",
     "output_type": "stream",
     "text": [
      "C:\\ProgramData\\Anaconda3\\lib\\site-packages\\xgboost\\sklearn.py:1224: UserWarning: The use of label encoder in XGBClassifier is deprecated and will be removed in a future release. To remove this warning, do the following: 1) Pass option use_label_encoder=False when constructing XGBClassifier object; and 2) Encode your labels (y) as integers starting with 0, i.e. 0, 1, 2, ..., [num_class - 1].\n",
      "  warnings.warn(label_encoder_deprecation_msg, UserWarning)\n"
     ]
    },
    {
     "name": "stdout",
     "output_type": "stream",
     "text": [
      "[11:32:30] WARNING: ..\\src\\learner.cc:1115: Starting in XGBoost 1.3.0, the default evaluation metric used with the objective 'binary:logistic' was changed from 'error' to 'logloss'. Explicitly set eval_metric if you'd like to restore the old behavior.\n",
      "              precision    recall  f1-score   support\n",
      "\n",
      "           0       0.90      0.99      0.94     31938\n",
      "           1       0.68      0.21      0.33      4230\n",
      "\n",
      "    accuracy                           0.90     36168\n",
      "   macro avg       0.79      0.60      0.63     36168\n",
      "weighted avg       0.88      0.90      0.87     36168\n",
      "\n",
      "              precision    recall  f1-score   support\n",
      "\n",
      "           0       0.91      0.98      0.94      7984\n",
      "           1       0.65      0.22      0.33      1059\n",
      "\n",
      "    accuracy                           0.90      9043\n",
      "   macro avg       0.78      0.60      0.64      9043\n",
      "weighted avg       0.88      0.90      0.87      9043\n",
      "\n"
     ]
    }
   ],
   "source": [
    "model = XGBClassifier(seed=42,\n",
    "                      learning_rate = 0.01,\n",
    "                      max_depth = 3,\n",
    "                      min_child_weight = 9,\n",
    "                      n_estimators = 250)\n",
    "model.fit(X_train, y_train)\n",
    "\n",
    "y_pred_train = model.predict(X_train)\n",
    "print (metrics.classification_report(y_train, y_pred_train))\n",
    "\n",
    "y_pred_test = model.predict(X_test)\n",
    "print (metrics.classification_report(y_test, y_pred_test))"
   ]
  },
  {
   "cell_type": "markdown",
   "metadata": {},
   "source": [
    "## Градиентный бустинг"
   ]
  },
  {
   "cell_type": "code",
   "execution_count": 40,
   "metadata": {},
   "outputs": [],
   "source": [
    "from sklearn.ensemble import GradientBoostingClassifier"
   ]
  },
  {
   "cell_type": "code",
   "execution_count": 42,
   "metadata": {},
   "outputs": [
    {
     "data": {
      "text/plain": [
       "GradientBoostingClassifier(learning_rate=0.01, max_depth=5, max_features='sqrt',\n",
       "                           min_impurity_decrease=0.001, min_samples_leaf=5,\n",
       "                           min_samples_split=10, n_estimators=500,\n",
       "                           random_state=88)"
      ]
     },
     "execution_count": 42,
     "metadata": {},
     "output_type": "execute_result"
    }
   ],
   "source": [
    "param_grid_gr_boost = {  \n",
    "    'n_estimators': [250, 500, 1000],\n",
    "    'learning_rate': [0.01, 0.1, 0.2, 0.5],\n",
    "    'min_samples_leaf': [2, 3, 4, 5, 6, 8],\n",
    "    'min_samples_split': [2, 3, 4, 5, 6, 8],\n",
    "    'learning_rate': [0.01, 0.1, 0.2, 0.5],\n",
    "}\n",
    "\n",
    "model2 = GradientBoostingClassifier(random_state=88,\n",
    "                                   max_features='sqrt', \n",
    "                                   n_estimators=500,\n",
    "                                   loss='deviance', \n",
    "                                   learning_rate=0.01, \n",
    "                                   criterion='friedman_mse', \n",
    "                                   min_impurity_decrease=0.001, \n",
    "                                   min_samples_leaf=5, \n",
    "                                   min_samples_split=10,\n",
    "                                   max_depth=5)\n",
    "model2.fit(X_train, y_train)"
   ]
  },
  {
   "cell_type": "code",
   "execution_count": 49,
   "metadata": {},
   "outputs": [
    {
     "data": {
      "text/plain": [
       "GridSearchCV(cv=5,\n",
       "             estimator=GradientBoostingClassifier(learning_rate=0.01,\n",
       "                                                  max_depth=5,\n",
       "                                                  max_features='sqrt',\n",
       "                                                  min_impurity_decrease=0.001,\n",
       "                                                  min_samples_leaf=5,\n",
       "                                                  min_samples_split=10,\n",
       "                                                  n_estimators=500,\n",
       "                                                  random_state=88),\n",
       "             n_jobs=-1,\n",
       "             param_grid={'learning_rate': [0.01, 0.1, 0.2, 0.5],\n",
       "                         'min_samples_leaf': [2, 3, 4, 5, 6, 8],\n",
       "                         'min_samples_split': [2, 3, 4, 5, 6, 8],\n",
       "                         'n_estimators': [250, 500, 1000]},\n",
       "             scoring='precision')"
      ]
     },
     "execution_count": 49,
     "metadata": {},
     "output_type": "execute_result"
    }
   ],
   "source": [
    "grid_CV_2 = GridSearchCV(\n",
    "       estimator=model2,\n",
    "       param_grid=param_grid_gr_boost,\n",
    "       scoring='precision',\n",
    "       cv=5,\n",
    "       n_jobs=-1)\n",
    "\n",
    "grid_CV_2.fit(X_train, y_train)"
   ]
  },
  {
   "cell_type": "code",
   "execution_count": 50,
   "metadata": {},
   "outputs": [
    {
     "data": {
      "text/plain": [
       "{'learning_rate': 0.01,\n",
       " 'min_samples_leaf': 2,\n",
       " 'min_samples_split': 5,\n",
       " 'n_estimators': 250}"
      ]
     },
     "execution_count": 50,
     "metadata": {},
     "output_type": "execute_result"
    }
   ],
   "source": [
    "grid_CV_2.best_params_"
   ]
  },
  {
   "cell_type": "code",
   "execution_count": 54,
   "metadata": {},
   "outputs": [
    {
     "name": "stdout",
     "output_type": "stream",
     "text": [
      "              precision    recall  f1-score   support\n",
      "\n",
      "           0       0.91      0.98      0.95     31938\n",
      "           1       0.68      0.27      0.39      4230\n",
      "\n",
      "    accuracy                           0.90     36168\n",
      "   macro avg       0.80      0.63      0.67     36168\n",
      "weighted avg       0.88      0.90      0.88     36168\n",
      "\n",
      "              precision    recall  f1-score   support\n",
      "\n",
      "           0       0.91      0.98      0.94      7984\n",
      "           1       0.64      0.26      0.37      1059\n",
      "\n",
      "    accuracy                           0.90      9043\n",
      "   macro avg       0.77      0.62      0.66      9043\n",
      "weighted avg       0.88      0.90      0.88      9043\n",
      "\n"
     ]
    }
   ],
   "source": [
    "model2 = GradientBoostingClassifier(random_state=88,\n",
    "                      learning_rate= 0.01,\n",
    "                      min_samples_leaf= 2,\n",
    "                      min_samples_split= 5,\n",
    "                      n_estimators= 250)\n",
    "model2.fit(X_train, y_train)\n",
    "\n",
    "y_pred_train = model2.predict(X_train)\n",
    "print (metrics.classification_report(y_train, y_pred_train))\n",
    "\n",
    "y_pred_test = model2.predict(X_test)\n",
    "print (metrics.classification_report(y_test, y_pred_test))"
   ]
  },
  {
   "cell_type": "markdown",
   "metadata": {},
   "source": [
    "## Сравним с Random Forest"
   ]
  },
  {
   "cell_type": "markdown",
   "metadata": {},
   "source": [
    "Изначально случайный лес обучался на датасете без балансировки классов и с меньшим количеством переменных. Обучим ещё раз на новом датасете."
   ]
  },
  {
   "cell_type": "code",
   "execution_count": 9,
   "metadata": {},
   "outputs": [
    {
     "data": {
      "text/plain": [
       "RandomForestClassifier(max_depth=5, min_samples_split=5, n_estimators=70,\n",
       "                       oob_score=True, random_state=88)"
      ]
     },
     "execution_count": 9,
     "metadata": {},
     "output_type": "execute_result"
    }
   ],
   "source": [
    "from sklearn.ensemble import RandomForestClassifier\n",
    "model_rf = RandomForestClassifier(random_state=88,\n",
    "                               n_estimators=70,\n",
    "                               criterion='gini',\n",
    "                               max_depth=5,\n",
    "                               oob_score=True,\n",
    "                               warm_start=False,\n",
    "                               class_weight=None,\n",
    "                               min_samples_split=5\n",
    "                              )\n",
    "model_rf.fit(X_train, y_train)"
   ]
  },
  {
   "cell_type": "code",
   "execution_count": 12,
   "metadata": {},
   "outputs": [
    {
     "data": {
      "text/plain": [
       "GridSearchCV(cv=5,\n",
       "             estimator=RandomForestClassifier(max_depth=5, min_samples_split=5,\n",
       "                                              n_estimators=70, oob_score=True,\n",
       "                                              random_state=88),\n",
       "             n_jobs=-1,\n",
       "             param_grid={'criterion': ['gini', 'entropy'],\n",
       "                         'max_depth': [2, 3, 4, 5, 6, 8],\n",
       "                         'min_samples_split': [2, 3, 4, 5, 6, 8, 10],\n",
       "                         'n_estimators': [100, 250, 500, 750, 900, 1000]},\n",
       "             scoring='precision')"
      ]
     },
     "execution_count": 12,
     "metadata": {},
     "output_type": "execute_result"
    }
   ],
   "source": [
    "params_set_cart = {\n",
    "'n_estimators': [100, 250, 500, 750, 900, 1000],\n",
    "'criterion': ['gini', 'entropy'],\n",
    "'max_depth': [2, 3, 4, 5, 6, 8],\n",
    "'min_samples_split': [2, 3, 4, 5, 6, 8, 10]\n",
    "}\n",
    "\n",
    "grid_CV_RF = GridSearchCV(estimator=model_rf,\n",
    "       param_grid=params_set_cart,\n",
    "       scoring='precision',\n",
    "       cv=5,\n",
    "       n_jobs=-1)\n",
    "\n",
    "\n",
    "grid_CV_RF.fit(X_train, y_train)"
   ]
  },
  {
   "cell_type": "code",
   "execution_count": 13,
   "metadata": {},
   "outputs": [
    {
     "data": {
      "text/plain": [
       "{'criterion': 'entropy',\n",
       " 'max_depth': 4,\n",
       " 'min_samples_split': 5,\n",
       " 'n_estimators': 100}"
      ]
     },
     "execution_count": 13,
     "metadata": {},
     "output_type": "execute_result"
    }
   ],
   "source": [
    "grid_CV_RF.best_params_"
   ]
  },
  {
   "cell_type": "code",
   "execution_count": 14,
   "metadata": {},
   "outputs": [
    {
     "name": "stdout",
     "output_type": "stream",
     "text": [
      "Обучающая выборка\n",
      "              precision    recall  f1-score   support\n",
      "\n",
      "           0       0.89      1.00      0.94     31938\n",
      "           1       0.79      0.03      0.06      4230\n",
      "\n",
      "    accuracy                           0.89     36168\n",
      "   macro avg       0.84      0.52      0.50     36168\n",
      "weighted avg       0.87      0.89      0.84     36168\n",
      "\n",
      "Тестовая выборка\n",
      "              precision    recall  f1-score   support\n",
      "\n",
      "           0       0.89      1.00      0.94      7984\n",
      "           1       0.87      0.03      0.06      1059\n",
      "\n",
      "    accuracy                           0.89      9043\n",
      "   macro avg       0.88      0.52      0.50      9043\n",
      "weighted avg       0.88      0.89      0.84      9043\n",
      "\n"
     ]
    }
   ],
   "source": [
    "model_rf = RandomForestClassifier(random_state=88,\n",
    "                               n_estimators=100,\n",
    "                               criterion='entropy',\n",
    "                               max_depth=4,\n",
    "                               oob_score=True,\n",
    "                               warm_start=False,\n",
    "                               class_weight=None,\n",
    "                               min_samples_split=5\n",
    "                              )\n",
    "model_rf.fit(X_train, y_train)\n",
    "\n",
    "y_pred_train = grid_CV_RF.predict(X_train)  \n",
    "y_pred_test = grid_CV_RF.predict(X_test)  \n",
    "\n",
    "print(u'Обучающая выборка')\n",
    "print(metrics.classification_report(y_train, y_pred_train)) \n",
    "\n",
    "print(u'Тестовая выборка')\n",
    "print(metrics.classification_report(y_test, y_pred_test)) "
   ]
  },
  {
   "cell_type": "markdown",
   "metadata": {},
   "source": [
    "## Выводы "
   ]
  },
  {
   "cell_type": "markdown",
   "metadata": {},
   "source": [
    "Балансировка классов позволила увеличить среднее значение **precision** для случайного леса с 80 до 88 % на тестовой выборке. Также при обучении на сбалансированной выборке **precision** для каждого класса ближе друг к другу по значению.\n",
    "\n",
    "Градиентный бустинг и XGBoost дают средний показатель **precision** на тестовой выборке на 10-11 % меньше, чем у случайного леса, в то же время **precision** для класса 0 и **accuracy** выше на несколько процентов.\n",
    "\n",
    "При нацеленности на заинтересованных клиентов и избегании предложений незаинтересованной аудитории лучше выбрать случайный лес в качестве классификатора."
   ]
  }
 ],
 "metadata": {
  "kernelspec": {
   "display_name": "Python 3",
   "language": "python",
   "name": "python3"
  },
  "language_info": {
   "codemirror_mode": {
    "name": "ipython",
    "version": 3
   },
   "file_extension": ".py",
   "mimetype": "text/x-python",
   "name": "python",
   "nbconvert_exporter": "python",
   "pygments_lexer": "ipython3",
   "version": "3.8.5"
  }
 },
 "nbformat": 4,
 "nbformat_minor": 4
}
