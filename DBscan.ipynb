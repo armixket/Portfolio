{
 "cells": [
  {
   "cell_type": "markdown",
   "metadata": {},
   "source": [
    "# Лабораторная работа 1. Кластерный анализ"
   ]
  },
  {
   "cell_type": "code",
   "execution_count": 205,
   "metadata": {},
   "outputs": [],
   "source": [
    "import numpy as np\n",
    "import pandas as pd\n",
    "\n",
    "import matplotlib\n",
    "import matplotlib.pyplot as plt\n",
    "matplotlib.style.use('ggplot')\n",
    "%matplotlib inline\n",
    "\n",
    "from sklearn import preprocessing\n",
    "\n",
    "import os"
   ]
  },
  {
   "cell_type": "code",
   "execution_count": 2,
   "metadata": {},
   "outputs": [],
   "source": [
    "from sklearn.cluster import DBSCAN"
   ]
  },
  {
   "cell_type": "code",
   "execution_count": 206,
   "metadata": {},
   "outputs": [],
   "source": [
    "from scipy.cluster.hierarchy import dendrogram, linkage, fcluster"
   ]
  },
  {
   "cell_type": "code",
   "execution_count": 225,
   "metadata": {},
   "outputs": [
    {
     "data": {
      "text/html": [
       "<div>\n",
       "<style scoped>\n",
       "    .dataframe tbody tr th:only-of-type {\n",
       "        vertical-align: middle;\n",
       "    }\n",
       "\n",
       "    .dataframe tbody tr th {\n",
       "        vertical-align: top;\n",
       "    }\n",
       "\n",
       "    .dataframe thead th {\n",
       "        text-align: right;\n",
       "    }\n",
       "</style>\n",
       "<table border=\"1\" class=\"dataframe\">\n",
       "  <thead>\n",
       "    <tr style=\"text-align: right;\">\n",
       "      <th></th>\n",
       "      <th>Work</th>\n",
       "      <th>Price</th>\n",
       "      <th>Salary</th>\n",
       "    </tr>\n",
       "    <tr>\n",
       "      <th>City</th>\n",
       "      <th></th>\n",
       "      <th></th>\n",
       "      <th></th>\n",
       "    </tr>\n",
       "  </thead>\n",
       "  <tbody>\n",
       "    <tr>\n",
       "      <th>Amsterdam</th>\n",
       "      <td>1714</td>\n",
       "      <td>65.6</td>\n",
       "      <td>49.0</td>\n",
       "    </tr>\n",
       "    <tr>\n",
       "      <th>Athens</th>\n",
       "      <td>1792</td>\n",
       "      <td>53.8</td>\n",
       "      <td>30.4</td>\n",
       "    </tr>\n",
       "    <tr>\n",
       "      <th>Bogota</th>\n",
       "      <td>2152</td>\n",
       "      <td>37.9</td>\n",
       "      <td>11.5</td>\n",
       "    </tr>\n",
       "    <tr>\n",
       "      <th>Bombay</th>\n",
       "      <td>2052</td>\n",
       "      <td>30.3</td>\n",
       "      <td>5.3</td>\n",
       "    </tr>\n",
       "    <tr>\n",
       "      <th>Brussels</th>\n",
       "      <td>1708</td>\n",
       "      <td>73.8</td>\n",
       "      <td>50.5</td>\n",
       "    </tr>\n",
       "  </tbody>\n",
       "</table>\n",
       "</div>"
      ],
      "text/plain": [
       "           Work  Price  Salary\n",
       "City                          \n",
       "Amsterdam  1714   65.6    49.0\n",
       "Athens     1792   53.8    30.4\n",
       "Bogota     2152   37.9    11.5\n",
       "Bombay     2052   30.3     5.3\n",
       "Brussels   1708   73.8    50.5"
      ]
     },
     "execution_count": 225,
     "metadata": {},
     "output_type": "execute_result"
    }
   ],
   "source": [
    "data = pd.read_csv('Econom_Cities_data.csv', sep = ';',index_col='City',decimal=',')\n",
    "data.head()"
   ]
  },
  {
   "cell_type": "code",
   "execution_count": 228,
   "metadata": {},
   "outputs": [],
   "source": [
    "data_2 = data.copy()  #создаём копию для иерархического анализа"
   ]
  },
  {
   "cell_type": "markdown",
   "metadata": {},
   "source": [
    "# 3.DBScan"
   ]
  },
  {
   "cell_type": "code",
   "execution_count": 226,
   "metadata": {},
   "outputs": [
    {
     "data": {
      "text/html": [
       "<div>\n",
       "<style scoped>\n",
       "    .dataframe tbody tr th:only-of-type {\n",
       "        vertical-align: middle;\n",
       "    }\n",
       "\n",
       "    .dataframe tbody tr th {\n",
       "        vertical-align: top;\n",
       "    }\n",
       "\n",
       "    .dataframe thead th {\n",
       "        text-align: right;\n",
       "    }\n",
       "</style>\n",
       "<table border=\"1\" class=\"dataframe\">\n",
       "  <thead>\n",
       "    <tr style=\"text-align: right;\">\n",
       "      <th></th>\n",
       "      <th>Work</th>\n",
       "      <th>Price</th>\n",
       "      <th>Salary</th>\n",
       "    </tr>\n",
       "    <tr>\n",
       "      <th>City</th>\n",
       "      <th></th>\n",
       "      <th></th>\n",
       "      <th></th>\n",
       "    </tr>\n",
       "  </thead>\n",
       "  <tbody>\n",
       "    <tr>\n",
       "      <th>Amsterdam</th>\n",
       "      <td>0.138269</td>\n",
       "      <td>-0.151250</td>\n",
       "      <td>0.213212</td>\n",
       "    </tr>\n",
       "    <tr>\n",
       "      <th>Athens</th>\n",
       "      <td>0.171046</td>\n",
       "      <td>-0.698647</td>\n",
       "      <td>0.203941</td>\n",
       "    </tr>\n",
       "    <tr>\n",
       "      <th>Bogota</th>\n",
       "      <td>0.322325</td>\n",
       "      <td>-1.436242</td>\n",
       "      <td>0.194519</td>\n",
       "    </tr>\n",
       "    <tr>\n",
       "      <th>Bombay</th>\n",
       "      <td>0.280303</td>\n",
       "      <td>-1.788804</td>\n",
       "      <td>0.191429</td>\n",
       "    </tr>\n",
       "    <tr>\n",
       "      <th>Brussels</th>\n",
       "      <td>0.135748</td>\n",
       "      <td>0.229145</td>\n",
       "      <td>0.213960</td>\n",
       "    </tr>\n",
       "  </tbody>\n",
       "</table>\n",
       "</div>"
      ],
      "text/plain": [
       "               Work     Price    Salary\n",
       "City                                   \n",
       "Amsterdam  0.138269 -0.151250  0.213212\n",
       "Athens     0.171046 -0.698647  0.203941\n",
       "Bogota     0.322325 -1.436242  0.194519\n",
       "Bombay     0.280303 -1.788804  0.191429\n",
       "Brussels   0.135748  0.229145  0.213960"
      ]
     },
     "execution_count": 226,
     "metadata": {},
     "output_type": "execute_result"
    }
   ],
   "source": [
    "# оставляем выбросы - dbscan должен их распознать\n",
    "# стандартизуем данные\n",
    "stand_1 = preprocessing.StandardScaler()\n",
    "\n",
    "# параметры стандартизации\n",
    "stand_1.fit(data)\n",
    "# преобразование\n",
    "X = stand_1.transform(data)\n",
    "X = pd.DataFrame(X, index=data.index, columns=data.columns)\n",
    "\n",
    "X.head()"
   ]
  },
  {
   "cell_type": "code",
   "execution_count": 105,
   "metadata": {},
   "outputs": [
    {
     "data": {
      "text/plain": [
       "array([ 0,  0,  0,  0,  0,  0, -1,  0,  0,  0,  0,  0,  0,  0, -1,  0,  0,\n",
       "       -1,  0,  0,  0,  0,  0,  0,  0,  0,  0,  0,  0,  0,  0,  0,  0, -1,\n",
       "        0,  0,  0,  0,  0,  0, -1,  0,  0,  0, -1,  0,  0,  0],\n",
       "      dtype=int64)"
      ]
     },
     "execution_count": 105,
     "metadata": {},
     "output_type": "execute_result"
    }
   ],
   "source": [
    "# создаём 1-ую модель с параметрами по умолчанию\n",
    "dbscan_1 = DBSCAN(eps=0.5, metric='euclidean', min_samples=5)\n",
    "\n",
    "dbscan_1.fit(X)\n",
    "\n",
    "dbscan_1.labels_"
   ]
  },
  {
   "cell_type": "markdown",
   "metadata": {},
   "source": [
    "Есть несколько выбросов, но большинство наблюдений попало в единственный кластер. Значит, радиус слишком большой."
   ]
  },
  {
   "cell_type": "code",
   "execution_count": 138,
   "metadata": {},
   "outputs": [
    {
     "data": {
      "text/plain": [
       "array([ 0,  0, -1, -1,  0,  0, -1,  0,  0, -1,  0,  0,  0, -1, -1,  0,  0,\n",
       "       -1,  0,  0,  0,  0,  0,  0,  0, -1,  0,  0,  0,  0,  0,  0,  0, -1,\n",
       "        0,  0,  0,  0,  0,  0, -1,  0,  0,  0, -1,  0,  0, -1],\n",
       "      dtype=int64)"
      ]
     },
     "execution_count": 138,
     "metadata": {},
     "output_type": "execute_result"
    }
   ],
   "source": [
    "dbscan_2 = DBSCAN(eps=0.25, metric='euclidean', min_samples=5)\n",
    "\n",
    "dbscan_2.fit(X)\n",
    "\n",
    "dbscan_2.labels_"
   ]
  },
  {
   "cell_type": "markdown",
   "metadata": {},
   "source": [
    "После уменьшения радиуса в 2 раза ситуация примерно та же - продолжаем уменьшать радиус."
   ]
  },
  {
   "cell_type": "code",
   "execution_count": 139,
   "metadata": {},
   "outputs": [
    {
     "data": {
      "text/plain": [
       "array([ 2,  0, -1, -1,  1,  0, -1,  2,  1, -1,  1,  1,  1, -1, -1,  2,  1,\n",
       "       -1,  0,  0,  0,  0,  1,  1,  1, -1, -1,  0,  1,  1,  0,  1,  0, -1,\n",
       "        0,  1,  0,  0, -1,  2, -1,  1,  1,  1, -1,  1,  1, -1],\n",
       "      dtype=int64)"
      ]
     },
     "execution_count": 139,
     "metadata": {},
     "output_type": "execute_result"
    }
   ],
   "source": [
    "dbscan_3 = DBSCAN(eps=0.2, metric='euclidean', min_samples=5)\n",
    "\n",
    "dbscan_3.fit(X)\n",
    "\n",
    "dbscan_3.labels_"
   ]
  },
  {
   "cell_type": "markdown",
   "metadata": {},
   "source": [
    "Образовалось несколько кластеров, однако  резко возросло число выбросов. Делаем вывод, что m также нужно уменьшить."
   ]
  },
  {
   "cell_type": "code",
   "execution_count": 145,
   "metadata": {},
   "outputs": [
    {
     "data": {
      "text/plain": [
       "array([ 0,  0,  0, -1,  0,  0, -1,  0,  0,  1,  0,  0,  0,  1,  2,  0,  0,\n",
       "       -1,  0,  0,  0,  0,  0,  0,  0,  1,  0,  0,  0,  0,  0,  0,  0,  2,\n",
       "        0,  0,  0,  0,  0,  0,  2,  0,  0,  0,  2,  0,  0,  1],\n",
       "      dtype=int64)"
      ]
     },
     "execution_count": 145,
     "metadata": {},
     "output_type": "execute_result"
    }
   ],
   "source": [
    "dbscan_4 = DBSCAN(eps=0.2, metric='euclidean', min_samples=3)\n",
    "\n",
    "dbscan_4.fit(X)\n",
    "\n",
    "dbscan_4.labels_"
   ]
  },
  {
   "cell_type": "code",
   "execution_count": 150,
   "metadata": {},
   "outputs": [
    {
     "data": {
      "text/plain": [
       "array(['Amsterdam', 'Athens', 'Bogota', 'Brussels', 'Buenos_Aires',\n",
       "       'Caracas', 'Chicago', 'Dublin', 'Dusseldorf', 'Frankfurt',\n",
       "       'Hong_Kong', 'Houston', 'Johannesburg', 'Kuala_Lumpur', 'Lagos',\n",
       "       'Lisbon', 'London', 'Los_Angeles', 'Luxembourg', 'Manila',\n",
       "       'Mexico_City', 'Milan', 'Montreal', 'Nairobi', 'New_York',\n",
       "       'Nicosia', 'Panama', 'Paris', 'Rio_de_Janeiro', 'San_Paulo',\n",
       "       'Seoul', 'Singpore', 'Sydney', 'Taipei', 'Tel_Aviv', 'Toronto',\n",
       "       'Vienna'], dtype=object)"
      ]
     },
     "execution_count": 150,
     "metadata": {},
     "output_type": "execute_result"
    }
   ],
   "source": [
    "data['dbscan_4'] = dbscan_4.labels_\n",
    "data[data['dbscan_4']==0].index.values"
   ]
  },
  {
   "cell_type": "markdown",
   "metadata": {},
   "source": [
    "Выбросов стало меньше, но состав 0-го кластера нелогичен: в него входят как развитые города Европы и Америки, так и бедные города Африки и Азии. Вероятно, радиус всё ещё достаточно велик - снижаем его небольшими шагами."
   ]
  },
  {
   "cell_type": "code",
   "execution_count": 233,
   "metadata": {},
   "outputs": [
    {
     "data": {
      "text/plain": [
       "array([ 0,  1, -1, -1,  0,  1, -1, -1,  0,  3,  0,  0,  0,  3,  2,  0,  0,\n",
       "       -1,  1,  1,  1,  1,  0,  0,  0,  3, -1,  1,  0,  0,  1,  0,  1,  2,\n",
       "        1,  0,  1,  1,  1,  0,  2,  0,  0,  0,  2,  0,  0, -1],\n",
       "      dtype=int64)"
      ]
     },
     "execution_count": 233,
     "metadata": {},
     "output_type": "execute_result"
    }
   ],
   "source": [
    "dbscan_5 = DBSCAN(eps=0.15, metric='euclidean', min_samples=3)\n",
    "\n",
    "dbscan_5.fit(X)\n",
    "\n",
    "dbscan_5.labels_"
   ]
  },
  {
   "cell_type": "code",
   "execution_count": 235,
   "metadata": {},
   "outputs": [
    {
     "data": {
      "text/html": [
       "<div>\n",
       "<style scoped>\n",
       "    .dataframe tbody tr th:only-of-type {\n",
       "        vertical-align: middle;\n",
       "    }\n",
       "\n",
       "    .dataframe tbody tr th {\n",
       "        vertical-align: top;\n",
       "    }\n",
       "\n",
       "    .dataframe thead th {\n",
       "        text-align: right;\n",
       "    }\n",
       "</style>\n",
       "<table border=\"1\" class=\"dataframe\">\n",
       "  <thead>\n",
       "    <tr style=\"text-align: right;\">\n",
       "      <th></th>\n",
       "      <th>Work</th>\n",
       "      <th>Price</th>\n",
       "      <th>Salary</th>\n",
       "    </tr>\n",
       "    <tr>\n",
       "      <th>dbscan_5</th>\n",
       "      <th></th>\n",
       "      <th></th>\n",
       "      <th></th>\n",
       "    </tr>\n",
       "  </thead>\n",
       "  <tbody>\n",
       "    <tr>\n",
       "      <th>-1</th>\n",
       "      <td>-1373.857143</td>\n",
       "      <td>49.985714</td>\n",
       "      <td>-2838.042857</td>\n",
       "    </tr>\n",
       "    <tr>\n",
       "      <th>0</th>\n",
       "      <td>1866.571429</td>\n",
       "      <td>74.652381</td>\n",
       "      <td>49.547619</td>\n",
       "    </tr>\n",
       "    <tr>\n",
       "      <th>1</th>\n",
       "      <td>1896.538462</td>\n",
       "      <td>50.100000</td>\n",
       "      <td>15.861538</td>\n",
       "    </tr>\n",
       "    <tr>\n",
       "      <th>2</th>\n",
       "      <td>1733.750000</td>\n",
       "      <td>113.850000</td>\n",
       "      <td>59.375000</td>\n",
       "    </tr>\n",
       "    <tr>\n",
       "      <th>3</th>\n",
       "      <td>1769.000000</td>\n",
       "      <td>93.666667</td>\n",
       "      <td>67.733333</td>\n",
       "    </tr>\n",
       "  </tbody>\n",
       "</table>\n",
       "</div>"
      ],
      "text/plain": [
       "                 Work       Price       Salary\n",
       "dbscan_5                                      \n",
       "-1       -1373.857143   49.985714 -2838.042857\n",
       " 0        1866.571429   74.652381    49.547619\n",
       " 1        1896.538462   50.100000    15.861538\n",
       " 2        1733.750000  113.850000    59.375000\n",
       " 3        1769.000000   93.666667    67.733333"
      ]
     },
     "execution_count": 235,
     "metadata": {},
     "output_type": "execute_result"
    }
   ],
   "source": [
    "data['dbscan_5'] = dbscan_5.labels_\n",
    "data.groupby('dbscan_5').mean()"
   ]
  },
  {
   "cell_type": "code",
   "execution_count": 175,
   "metadata": {},
   "outputs": [
    {
     "data": {
      "text/plain": [
       "array([-1,  0, -1, -1,  1,  0, -1, -1,  1,  5,  1,  1,  1,  5,  2, -1,  1,\n",
       "       -1,  3,  3,  3,  0,  4, -1,  1,  5, -1,  3,  4,  1,  3,  4,  3,  2,\n",
       "        3,  4,  3,  3,  0, -1,  2,  1,  4, -1,  2,  1,  1, -1],\n",
       "      dtype=int64)"
      ]
     },
     "execution_count": 175,
     "metadata": {},
     "output_type": "execute_result"
    }
   ],
   "source": [
    "dbscan_6 = DBSCAN(eps=0.14, metric='euclidean', min_samples=3)\n",
    "\n",
    "dbscan_6.fit(X)\n",
    "\n",
    "dbscan_6.labels_"
   ]
  },
  {
   "cell_type": "markdown",
   "metadata": {},
   "source": [
    "Больше уменьшать радиус нет смысла - снова возрастает число выбросов и появляются кластеры минимального размера"
   ]
  },
  {
   "cell_type": "code",
   "execution_count": 241,
   "metadata": {},
   "outputs": [
    {
     "data": {
      "text/plain": [
       "array(['Bogota', 'Bombay', 'Cairo', 'Caracas', 'Jakarta', 'Manila',\n",
       "       'Zurich'], dtype=object)"
      ]
     },
     "execution_count": 241,
     "metadata": {},
     "output_type": "execute_result"
    }
   ],
   "source": [
    "data[data['dbscan_5']==-1].index.values  # выбросы"
   ]
  },
  {
   "cell_type": "code",
   "execution_count": 237,
   "metadata": {},
   "outputs": [
    {
     "data": {
      "text/plain": [
       "array(['Amsterdam', 'Brussels', 'Chicago', 'Dublin', 'Dusseldorf',\n",
       "       'Frankfurt', 'Hong_Kong', 'Houston', 'London', 'Los_Angeles',\n",
       "       'Luxembourg', 'Milan', 'Montreal', 'New_York', 'Paris', 'Singpore',\n",
       "       'Sydney', 'Taipei', 'Tel_Aviv', 'Toronto', 'Vienna'], dtype=object)"
      ]
     },
     "execution_count": 237,
     "metadata": {},
     "output_type": "execute_result"
    }
   ],
   "source": [
    "data[data['dbscan_5']==0].index.values"
   ]
  },
  {
   "cell_type": "code",
   "execution_count": 238,
   "metadata": {},
   "outputs": [
    {
     "data": {
      "text/plain": [
       "array(['Athens', 'Buenos_Aires', 'Johannesburg', 'Kuala_Lumpur', 'Lagos',\n",
       "       'Lisbon', 'Mexico_City', 'Nairobi', 'Nicosia', 'Panama',\n",
       "       'Rio_de_Janeiro', 'San_Paulo', 'Seoul'], dtype=object)"
      ]
     },
     "execution_count": 238,
     "metadata": {},
     "output_type": "execute_result"
    }
   ],
   "source": [
    "data[data['dbscan_5']==1].index.values"
   ]
  },
  {
   "cell_type": "code",
   "execution_count": 239,
   "metadata": {},
   "outputs": [
    {
     "data": {
      "text/plain": [
       "array(['Helsinki', 'Oslo', 'Stockholm', 'Tokyo'], dtype=object)"
      ]
     },
     "execution_count": 239,
     "metadata": {},
     "output_type": "execute_result"
    }
   ],
   "source": [
    "data[data['dbscan_5']==2].index.values"
   ]
  },
  {
   "cell_type": "code",
   "execution_count": 240,
   "metadata": {},
   "outputs": [
    {
     "data": {
      "text/plain": [
       "array(['Copenhagen', 'Geneva', 'Madrid'], dtype=object)"
      ]
     },
     "execution_count": 240,
     "metadata": {},
     "output_type": "execute_result"
    }
   ],
   "source": [
    "data[data['dbscan_5']==3].index.values"
   ]
  },
  {
   "cell_type": "markdown",
   "metadata": {},
   "source": [
    "# Сравнение с иерархическим анализом"
   ]
  },
  {
   "cell_type": "code",
   "execution_count": 229,
   "metadata": {},
   "outputs": [
    {
     "data": {
      "text/html": [
       "<div>\n",
       "<style scoped>\n",
       "    .dataframe tbody tr th:only-of-type {\n",
       "        vertical-align: middle;\n",
       "    }\n",
       "\n",
       "    .dataframe tbody tr th {\n",
       "        vertical-align: top;\n",
       "    }\n",
       "\n",
       "    .dataframe thead th {\n",
       "        text-align: right;\n",
       "    }\n",
       "</style>\n",
       "<table border=\"1\" class=\"dataframe\">\n",
       "  <thead>\n",
       "    <tr style=\"text-align: right;\">\n",
       "      <th></th>\n",
       "      <th>Work</th>\n",
       "      <th>Price</th>\n",
       "      <th>Salary</th>\n",
       "    </tr>\n",
       "    <tr>\n",
       "      <th>City</th>\n",
       "      <th></th>\n",
       "      <th></th>\n",
       "      <th></th>\n",
       "    </tr>\n",
       "  </thead>\n",
       "  <tbody>\n",
       "    <tr>\n",
       "      <th>Amsterdam</th>\n",
       "      <td>1714</td>\n",
       "      <td>65.6</td>\n",
       "      <td>49.0</td>\n",
       "    </tr>\n",
       "    <tr>\n",
       "      <th>Athens</th>\n",
       "      <td>1792</td>\n",
       "      <td>53.8</td>\n",
       "      <td>30.4</td>\n",
       "    </tr>\n",
       "    <tr>\n",
       "      <th>Bogota</th>\n",
       "      <td>2152</td>\n",
       "      <td>37.9</td>\n",
       "      <td>11.5</td>\n",
       "    </tr>\n",
       "    <tr>\n",
       "      <th>Bombay</th>\n",
       "      <td>2052</td>\n",
       "      <td>30.3</td>\n",
       "      <td>5.3</td>\n",
       "    </tr>\n",
       "    <tr>\n",
       "      <th>Brussels</th>\n",
       "      <td>1708</td>\n",
       "      <td>73.8</td>\n",
       "      <td>50.5</td>\n",
       "    </tr>\n",
       "  </tbody>\n",
       "</table>\n",
       "</div>"
      ],
      "text/plain": [
       "           Work  Price  Salary\n",
       "City                          \n",
       "Amsterdam  1714   65.6    49.0\n",
       "Athens     1792   53.8    30.4\n",
       "Bogota     2152   37.9    11.5\n",
       "Bombay     2052   30.3     5.3\n",
       "Brussels   1708   73.8    50.5"
      ]
     },
     "execution_count": 229,
     "metadata": {},
     "output_type": "execute_result"
    }
   ],
   "source": [
    "# очищаем датасет от выбросов\n",
    "data_out = data_2.drop('Cairo')\n",
    "data_out = data_out.drop('Jakarta')\n",
    "data_out.head()"
   ]
  },
  {
   "cell_type": "code",
   "execution_count": 230,
   "metadata": {},
   "outputs": [
    {
     "data": {
      "text/html": [
       "<div>\n",
       "<style scoped>\n",
       "    .dataframe tbody tr th:only-of-type {\n",
       "        vertical-align: middle;\n",
       "    }\n",
       "\n",
       "    .dataframe tbody tr th {\n",
       "        vertical-align: top;\n",
       "    }\n",
       "\n",
       "    .dataframe thead th {\n",
       "        text-align: right;\n",
       "    }\n",
       "</style>\n",
       "<table border=\"1\" class=\"dataframe\">\n",
       "  <thead>\n",
       "    <tr style=\"text-align: right;\">\n",
       "      <th></th>\n",
       "      <th>Work</th>\n",
       "      <th>Price</th>\n",
       "      <th>Salary</th>\n",
       "    </tr>\n",
       "    <tr>\n",
       "      <th>City</th>\n",
       "      <th></th>\n",
       "      <th></th>\n",
       "      <th></th>\n",
       "    </tr>\n",
       "  </thead>\n",
       "  <tbody>\n",
       "    <tr>\n",
       "      <th>Amsterdam</th>\n",
       "      <td>-0.962166</td>\n",
       "      <td>-0.212712</td>\n",
       "      <td>0.386095</td>\n",
       "    </tr>\n",
       "    <tr>\n",
       "      <th>Athens</th>\n",
       "      <td>-0.509827</td>\n",
       "      <td>-0.770489</td>\n",
       "      <td>-0.373488</td>\n",
       "    </tr>\n",
       "    <tr>\n",
       "      <th>Bogota</th>\n",
       "      <td>1.577891</td>\n",
       "      <td>-1.522069</td>\n",
       "      <td>-1.145323</td>\n",
       "    </tr>\n",
       "    <tr>\n",
       "      <th>Bombay</th>\n",
       "      <td>0.997969</td>\n",
       "      <td>-1.881316</td>\n",
       "      <td>-1.398517</td>\n",
       "    </tr>\n",
       "    <tr>\n",
       "      <th>Brussels</th>\n",
       "      <td>-0.996961</td>\n",
       "      <td>0.174896</td>\n",
       "      <td>0.447351</td>\n",
       "    </tr>\n",
       "  </tbody>\n",
       "</table>\n",
       "</div>"
      ],
      "text/plain": [
       "               Work     Price    Salary\n",
       "City                                   \n",
       "Amsterdam -0.962166 -0.212712  0.386095\n",
       "Athens    -0.509827 -0.770489 -0.373488\n",
       "Bogota     1.577891 -1.522069 -1.145323\n",
       "Bombay     0.997969 -1.881316 -1.398517\n",
       "Brussels  -0.996961  0.174896  0.447351"
      ]
     },
     "execution_count": 230,
     "metadata": {},
     "output_type": "execute_result"
    }
   ],
   "source": [
    "# повторяем иерархический анализ\n",
    "stand_2 = preprocessing.StandardScaler()\n",
    "\n",
    "# параметры стандартизации\n",
    "stand_2.fit(data_out)\n",
    "# преобразование\n",
    "X_2 = stand_2.transform(data_out)\n",
    "X_2 = pd.DataFrame(X_2, index=data_out.index, columns=data_out.columns)\n",
    "\n",
    "X_2.head()"
   ]
  },
  {
   "cell_type": "code",
   "execution_count": 231,
   "metadata": {},
   "outputs": [],
   "source": [
    "link_2 = linkage(X_2, 'ward', 'euclidean')\n",
    "\n",
    "data_out['cluster_2'] = fcluster(link_2, 4, criterion='distance')"
   ]
  },
  {
   "cell_type": "code",
   "execution_count": 236,
   "metadata": {},
   "outputs": [
    {
     "name": "stdout",
     "output_type": "stream",
     "text": [
      "cluster_2  1   2  3  4\n",
      "dbscan_5              \n",
      "-1         1   0  0  4\n",
      " 0         0  17  0  4\n",
      " 1         0   0  7  6\n",
      " 2         4   0  0  0\n",
      " 3         1   2  0  0\n"
     ]
    }
   ],
   "source": [
    "# таблица сопряжённости\n",
    "tab2 = pd.crosstab(data['dbscan_5'], data_out['cluster_2'])\n",
    "\n",
    "print(tab2)"
   ]
  },
  {
   "cell_type": "markdown",
   "metadata": {},
   "source": [
    "Наиболее неизменённым остаётся кластер развитых городов (2-ой в kmeans, 0-ой в dbscan), другие кластеры либо бьются на более мелкие, либо объединяются."
   ]
  },
  {
   "cell_type": "markdown",
   "metadata": {},
   "source": [
    "# Выводы"
   ]
  },
  {
   "cell_type": "markdown",
   "metadata": {},
   "source": [
    "В целом каждый метод кластеризации на выходе даёт \"шкалу\" стран по уровню развития, но акценты расставлены несколько по-разному.\n",
    "\n",
    "1. Иерархический анализ\n",
    "\n",
    "Даёт самый логичный и прозрачный результат: Передовые города - Развитые города - Развивающиеся города с развитой сферой услуг (туризм) - Развивающиеся города с преимущественно традиционным хозяйством\n",
    "\n",
    "2. Kmeans\n",
    "\n",
    "Развивающиеся города объединяются в один кластер. Добавляется новый кластер развитых транспортных узлов с характерной экономикой.\n",
    "\n",
    "3. DBScan \n",
    "\n",
    "Наибеднейшие города идентифицируются как выбросы, развивающиеся города объединяются в один кластер. В выбросы попадает и самый дорогой в выборке Цюрих, а передовые города бьются на два небольших кластера (разница в соотношении уровня цен и зп)."
   ]
  }
 ],
 "metadata": {
  "kernelspec": {
   "display_name": "Python 3",
   "language": "python",
   "name": "python3"
  },
  "language_info": {
   "codemirror_mode": {
    "name": "ipython",
    "version": 3
   },
   "file_extension": ".py",
   "mimetype": "text/x-python",
   "name": "python",
   "nbconvert_exporter": "python",
   "pygments_lexer": "ipython3",
   "version": "3.8.5"
  }
 },
 "nbformat": 4,
 "nbformat_minor": 4
}
